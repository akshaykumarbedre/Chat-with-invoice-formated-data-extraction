{
 "cells": [
  {
   "cell_type": "code",
   "execution_count": 228,
   "metadata": {},
   "outputs": [],
   "source": [
    "from langchain_google_genai import ChatGoogleGenerativeAI, GoogleGenerativeAI\n",
    "from langchain_core.messages import HumanMessage\n",
    "from dotenv import load_dotenv\n",
    "load_dotenv()\n",
    "import os \n",
    "os.environ['GOOGLE_API_KEY']=os.getenv(\"GOOGLE_API_KEY\")\n",
    "model_name=os.getenv(\"MODEL\")\n",
    "\n",
    "Model_vision=ChatGoogleGenerativeAI(model=model_name)"
   ]
  },
  {
   "cell_type": "code",
   "execution_count": null,
   "metadata": {},
   "outputs": [],
   "source": [
    "from typing import Any, Dict, List, Union, Optional\n",
    "from pydantic import BaseModel, Field\n",
    "import re\n",
    "\n",
    "def json_to_pydantic_model(json_data: Union[List, Dict], class_name: str = \"Data\") -> str:\n",
    "    \"\"\"\n",
    "    Convert a list of field definitions to a Pydantic BaseModel class definition.\n",
    "    \n",
    "    Args:\n",
    "        json_data: List of field definitions [name, type, description] or dict\n",
    "        class_name: Name for the Pydantic class\n",
    "        \n",
    "    Returns:\n",
    "        String containing the Pydantic class definition\n",
    "    \"\"\"\n",
    "    # Handle list of field definitions\n",
    "    if isinstance(json_data, list):\n",
    "        fields = []\n",
    "        for field_def in json_data:\n",
    "            if len(field_def) >= 3:\n",
    "                field_name = field_def[0]\n",
    "                field_type = field_def[1]\n",
    "                description = field_def[2]\n",
    "                fields.append((field_name, field_type, description))\n",
    "            else:\n",
    "                return \"Error: Each field definition should have name, type, and description.\"\n",
    "    else:\n",
    "        return \"Error: Expected a list of field definitions.\"\n",
    "    \n",
    "    # Generate class definition\n",
    "    class_definition = [\n",
    "        \"from pydantic import BaseModel, Field\",\n",
    "        \"from typing import List, Optional, Dict, Any, Union\\n\",\n",
    "        f\"class {class_name}(BaseModel):\"\n",
    "    ]\n",
    "    \n",
    "    for field_name, field_type, description in fields:\n",
    "        # Sanitize field name to be a valid Python identifier\n",
    "        field_name = re.sub(r'\\W|^(?=\\d)', '_', field_name)\n",
    "        \n",
    "        # Add field with type annotation and Field description\n",
    "        class_definition.append(f\"    {field_name}: {field_type} = Field(default=None, description=\\\"{description}\\\")\")\n",
    "    \n",
    "    return \"\\n\".join(class_definition)\n",
    "\n"
   ]
  },
  {
   "cell_type": "code",
   "execution_count": 280,
   "metadata": {},
   "outputs": [
    {
     "name": "stdout",
     "output_type": "stream",
     "text": [
      "from pydantic import BaseModel, Field\n",
      "from typing import List, Optional, Dict, Any, Union\n",
      "\n",
      "class Data(BaseModel):\n",
      "    name: str = Field( description=\"name of the person\")\n",
      "    price: int = Field( description=\"price for a service \")\n",
      "    gender: bool = Field( description=\"return true if he is male\")\n",
      "    list_of_sujest: List[str] = Field( description=\"list of subjest name\")\n"
     ]
    }
   ],
   "source": [
    "# name\n",
    "#['str','int','float','bool','List[str]']\n",
    "# Disction\n",
    "\n",
    "\n",
    "json_example=[\n",
    "    [\"name\",\"str\",\"name of the person\"],\n",
    "    [\"price\",\"int\",\"price for a service \"],\n",
    "    [\"gender\",\"bool\",\"return true if he is male\"],\n",
    "    ['list of sujest',\"List[str]\",\"list of subjest name\"]\n",
    "]\n",
    "# Generate the Pydantic class code\n",
    "pydantic_class_code = json_to_pydantic_model(json_example)\n",
    "# Execute the generated code to define the class\n",
    "exec(pydantic_class_code)\n",
    "print(pydantic_class_code)\n",
    "strut_llm=Model_vision.with_structured_output(Data)\n"
   ]
  },
  {
   "cell_type": "code",
   "execution_count": null,
   "metadata": {},
   "outputs": [],
   "source": [
    "strut_llm.invoke()"
   ]
  },
  {
   "cell_type": "code",
   "execution_count": null,
   "metadata": {},
   "outputs": [],
   "source": [
    "import base64\n",
    "\n",
    "# Read local file using regular file operations\n",
    "image_path = r\"C:\\Users\\AkshayKumarBM\\Documents\\multimodel_extration\\data\\raw\\ews-letter-1.jpg\"\n",
    "\n",
    "def GetImageDes(image_path, Model):\n",
    "    \n",
    "    with open(image_path, 'rb') as image_file:\n",
    "        image_data = base64.b64encode(image_file.read()).decode(\"utf-8\")\n",
    "\n",
    "    message = HumanMessage(\n",
    "        content=[\n",
    "            {\"type\": \"text\", \"text\": \"Act as Image Analyst. Analyze and extract insights from images. An expert in visual content interpretation and text Extraction with years of experience in image analysis \"},\n",
    "            {\n",
    "                \"type\": \"image_url\",\n",
    "                \"image_url\": {\"url\": f\"data:image/jpeg;base64,{image_data}\"},\n",
    "            },\n",
    "            \n",
    "        ],\n",
    "    )\n",
    "    response = Model.invoke([message])\n",
    "    # print(response.content)\n",
    "    return response.content\n"
   ]
  },
  {
   "cell_type": "code",
   "execution_count": 318,
   "metadata": {},
   "outputs": [
    {
     "name": "stdout",
     "output_type": "stream",
     "text": [
      "Here are the insights from the image:\n",
      "\n",
      "**Overall**:\n",
      "\n",
      "*   The image is an official circular from the Commissionerate of Revenue Administration and Disaster Management.\n",
      "*   The subject is related to the income and asset certificate for the Economic Weaker Section (EWS).\n",
      "*   The circular instructs to withdraw previous instructions.\n",
      "\n",
      "**Details:**\n",
      "\n",
      "*   **Sender**: Dr. J. Radhakrishnan, I.A.S, Principal Secretary/Commissioner of Revenue Administration, Chennai.\n",
      "*   **Recipients**: All District Collectors and The Commissioner, Tamil Nadu e-Governance Agency.\n",
      "*   **Date**: June 4, 2020.\n",
      "*   **Letter Number**: RA 5 (3) / 40521/2017.\n",
      "*   **Subject**: Income and asset certificate for the Economic Weaker Section - revised instructions.\n",
      "*   **References**:\n",
      "    *   This office Circular RA5(3)/40521/2017, dated 04.05.2019.\n",
      "    *   Government letter No: 41383/RA 3(2)/2019-1, dated 22.11.2019.\n",
      "    *   This office letter number RA 5(3)/40521/2017, dated 17.12.2019.\n",
      "    *   Government letter No:41383/RA3(2)/2019-1, dated 04.06.2020.\n",
      "*   **Instructions**:\n",
      "    *   The circular and letter issued by this office in reference vide 1 and 3 is hereby withdrawn.\n",
      "    *   Tahsildars are instructed not to issue the income and asset certificate for the EWS either through online or manually.\n",
      "*   **Signatories**:\n",
      "    *   J. Radhakrishnan, Principal Secretary/Commissioner of Revenue Administration.\n",
      "    *   Assistant Commissioner - VI for Principal Secretary/Commissioner of Revenue Administration.\n"
     ]
    }
   ],
   "source": [
    "image_des=GetImageDes(image_path,Model_vision)\n",
    "print(image_des)\n"
   ]
  },
  {
   "cell_type": "code",
   "execution_count": 319,
   "metadata": {},
   "outputs": [],
   "source": [
    "image_path=r\"C:\\Users\\AkshayKumarBM\\Documents\\multimodel_extration\\data\\raw\\adhar-india-pixlab.jpg\"\n",
    "image_des=GetImageDes(image_path,Model_vision)\n",
    "resutt=strut_llm.invoke(image_des)"
   ]
  },
  {
   "cell_type": "code",
   "execution_count": 320,
   "metadata": {},
   "outputs": [
    {
     "data": {
      "text/plain": [
       "Data(name='Furkan', price=200, gender=True, list_of_sujest=['Math', 'Science'])"
      ]
     },
     "execution_count": 320,
     "metadata": {},
     "output_type": "execute_result"
    }
   ],
   "source": [
    "resutt"
   ]
  },
  {
   "cell_type": "code",
   "execution_count": null,
   "metadata": {},
   "outputs": [],
   "source": []
  }
 ],
 "metadata": {
  "kernelspec": {
   "display_name": "Python 3",
   "language": "python",
   "name": "python3"
  },
  "language_info": {
   "codemirror_mode": {
    "name": "ipython",
    "version": 3
   },
   "file_extension": ".py",
   "mimetype": "text/x-python",
   "name": "python",
   "nbconvert_exporter": "python",
   "pygments_lexer": "ipython3",
   "version": "3.10.16"
  }
 },
 "nbformat": 4,
 "nbformat_minor": 2
}
