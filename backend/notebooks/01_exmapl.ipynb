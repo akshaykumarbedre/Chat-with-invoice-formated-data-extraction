{
 "cells": [
  {
   "cell_type": "code",
   "execution_count": 2,
   "metadata": {},
   "outputs": [
    {
     "name": "stderr",
     "output_type": "stream",
     "text": [
      "c:\\Users\\AkshayKumarBM\\Documents\\multimodel_extration\\mme\\lib\\site-packages\\tqdm\\auto.py:21: TqdmWarning: IProgress not found. Please update jupyter and ipywidgets. See https://ipywidgets.readthedocs.io/en/stable/user_install.html\n",
      "  from .autonotebook import tqdm as notebook_tqdm\n"
     ]
    }
   ],
   "source": [
    "from langchain_google_genai import ChatGoogleGenerativeAI\n",
    "from langchain_core.messages import HumanMessage\n",
    "from dotenv import load_dotenv\n",
    "load_dotenv()\n",
    "import os \n",
    "os.environ['GOOGLE_API_KEY']=os.getenv(\"GOOGLE_API_KEY\")\n",
    "model_name=os.getenv(\"MODEL\")"
   ]
  },
  {
   "cell_type": "code",
   "execution_count": null,
   "metadata": {},
   "outputs": [],
   "source": [
    "Model_vision=ChatGoogleGenerativeAI(model=model_name,)"
   ]
  },
  {
   "cell_type": "code",
   "execution_count": 21,
   "metadata": {},
   "outputs": [],
   "source": [
    "import base64\n",
    "\n",
    "# Read local file using regular file operations\n",
    "image_path = r\"C:\\Users\\AkshayKumarBM\\Documents\\multimodel_extration\\data\\raw\\ews-letter-1.jpg\"\n",
    "\n",
    "def GetImageDes(image_path, Model):\n",
    "\n",
    "    with open(image_path, 'rb') as image_file:\n",
    "        image_data = base64.b64encode(image_file.read()).decode(\"utf-8\")\n",
    "\n",
    "    message = HumanMessage(\n",
    "        content=[\n",
    "            {\"type\": \"text\", \"text\": \"Act as Image Analyst. Analyze and extract insights from images. An expert in visual content interpretation and text Extraction with years of experience in image analysis \"},\n",
    "            {\n",
    "                \"type\": \"image_url\",\n",
    "                \"image_url\": {\"url\": f\"data:image/jpeg;base64,{image_data}\"},\n",
    "            },\n",
    "        ],\n",
    "    )\n",
    "    response = Model.invoke([message])\n",
    "    # print(response.content)\n",
    "    return response.content"
   ]
  },
  {
   "cell_type": "code",
   "execution_count": 16,
   "metadata": {},
   "outputs": [
    {
     "data": {
      "text/plain": [
       "'Here are the insights from the image:\\n\\n*   **Issuing Authority:** The letter is issued by the Commissionerate of Revenue Administration and Disaster Management.\\n*   **Sender:** Dr. J. Radhakrishnan, I.A.S, Principal Secretary / Commissioner of Revenue Administration, Chennai.\\n*   **Recipients:** All District Collectors and The Commissioner, Tamil Nadu e-Governance Agency, Chennai.\\n*   **Subject:** Concerns income and asset certificates for the Economic Weaker Section, specifically regarding revised instructions.\\n*   **Letter Number and Date:** Letter No. RA 5 (3) / 40521/2017, dated 04.06.2020.\\n*   **References:** Cites previous circulars and government letters related to the subject.\\n*   **Key Action:** Instructs Tahsildars not to issue income and asset certificates for the Economic Weaker Section either through online or manually.\\n*   **Withdrawal:** The circular and letter issued by this office in reference vide 1 and 3 is hereby withdrawn.\\n*   **Signatures:** Signed by J. Radhakrishnan, Principal Secretary/Commissioner of Revenue Administration, and an Assistant Commissioner - VI for Principal Secretary/Commissioner of Revenue Administration.'"
      ]
     },
     "execution_count": 16,
     "metadata": {},
     "output_type": "execute_result"
    }
   ],
   "source": [
    "response.content"
   ]
  },
  {
   "cell_type": "code",
   "execution_count": null,
   "metadata": {},
   "outputs": [],
   "source": [
    "from pydantic import BaseModel , Field\n",
    "from typing_extensions import List\n",
    "def SuggestQuestion(ImageDest,Model_vision):\n",
    "\n",
    "    class Question(BaseModel):\n",
    "        question : str = Field(None,description=\"Suggested questions based on given data\")\n",
    "\n",
    "    class SuggestQue(BaseModel):\n",
    "        questions : List[Question]\n",
    "\n",
    "    Query_llm=Model_vision.with_structured_output(SuggestQue)\n",
    "    result=Query_llm.invoke(ImageDest)\n",
    "    return result\n"
   ]
  },
  {
   "cell_type": "code",
   "execution_count": 52,
   "metadata": {},
   "outputs": [
    {
     "data": {
      "text/plain": [
       "'Here are the insights from the image:\\n\\n*   **Header**: The document originates from the \"Commissionerate of Revenue Administration and Disaster Management.\"\\n*   **Sender**: The letter is from Dr. J. Radhakrishnan, I.A.S, who holds the position of Principal Secretary / Commissioner of Revenue Administration in Chepauk, Chennai.\\n*   **Recipient**: The letter is addressed to (1) All District Collectors and (2) The Commissioner, Tamil Nadu e-Governance Agency, Chennai.\\n*   **Subject**: The subject of the letter concerns \"Income and asset certificate for Economic Weaker Section - revised instructions - Reg.\"\\n*   **References**: The letter references previous circulars and government letters.\\n*   **Content**: The main point of the letter is to inform that the circular and letter issued by this office in reference vide 1 and 3 is hereby withdrawn. It instructs Tahsildars not to issue the income and asset certificate for the Economic Weaker Section either through online or manually.\\n*   **Closing**: The letter closes with \"Yours faithfully\" followed by the name and designation of Dr. J. Radhakrishnan. It also includes the signature of the Assistant Commissioner - VI for Principal Secretary/Commissioner of Revenue Administration.\\n*   **Date**: The letter is dated 04.06.2020, as indicated in the \"Letter No.\" line.'"
      ]
     },
     "execution_count": 52,
     "metadata": {},
     "output_type": "execute_result"
    }
   ],
   "source": [
    "result_img=GetImageDes(image_path, Model_vision)\n",
    "result_img"
   ]
  },
  {
   "cell_type": "code",
   "execution_count": 53,
   "metadata": {},
   "outputs": [],
   "source": [
    "result=SuggestQuestion(result_img)"
   ]
  },
  {
   "cell_type": "code",
   "execution_count": 54,
   "metadata": {},
   "outputs": [
    {
     "data": {
      "text/plain": [
       "[Question(question='What is the letter about?'),\n",
       " Question(question='Who is the letter addressed to?'),\n",
       " Question(question='Who is the letter from?'),\n",
       " Question(question='When was the letter written?')]"
      ]
     },
     "execution_count": 54,
     "metadata": {},
     "output_type": "execute_result"
    }
   ],
   "source": [
    "result.questions"
   ]
  },
  {
   "cell_type": "code",
   "execution_count": 55,
   "metadata": {},
   "outputs": [],
   "source": [
    "from langchain.chains import LLMChain\n",
    "from langchain.memory import ConversationBufferMemory\n",
    "from langchain_core.messages import SystemMessage\n",
    "from langchain_core.prompts import ChatPromptTemplate\n",
    "from langchain_core.prompts.chat import (\n",
    "    ChatPromptTemplate,\n",
    "    HumanMessagePromptTemplate,\n",
    "    MessagesPlaceholder,\n",
    ")\n",
    "from langchain_openai import ChatOpenAI\n",
    "\n",
    "prompt = ChatPromptTemplate(\n",
    "    [   SystemMessage(content=\"Act as a Teacher, Based on the information you know answer the user Questions\"),\n",
    "        MessagesPlaceholder(variable_name=\"chat_history\"),\n",
    "        HumanMessagePromptTemplate.from_template(\"Questions : {Questions}\"),\n",
    "    ]\n",
    ")\n",
    "\n",
    "memory = ConversationBufferMemory(memory_key=\"chat_history\", return_messages=True)\n",
    "\n",
    "legacy_chain = LLMChain(\n",
    "    llm=Model_vision,\n",
    "    prompt=prompt,\n",
    "    memory=memory,\n",
    ")\n",
    "\n",
    "legacy_result = legacy_chain.invoke({\"Questions\": \"hi\"})\n"
   ]
  },
  {
   "cell_type": "code",
   "execution_count": null,
   "metadata": {},
   "outputs": [],
   "source": []
  },
  {
   "cell_type": "code",
   "execution_count": 56,
   "metadata": {},
   "outputs": [],
   "source": [
    "memory.save_context(\n",
    "    {\"text\": \"Image Description is:\"},  # Human message\n",
    "    {\"text\": result_img},  # AI response\n",
    ")\n"
   ]
  },
  {
   "cell_type": "code",
   "execution_count": 57,
   "metadata": {},
   "outputs": [],
   "source": [
    "legacy_result = legacy_chain.invoke({\"Questions\": \"What is the letter about\"})"
   ]
  },
  {
   "cell_type": "code",
   "execution_count": 59,
   "metadata": {},
   "outputs": [
    {
     "data": {
      "text/plain": [
       "\"Okay, based on the image description, here's what the letter is about:\\n\\nThe letter is about **revised instructions regarding the Income and Asset Certificate for the Economically Weaker Section (EWS).**\\n\\nSpecifically, it informs the recipients (District Collectors and the Commissioner of the Tamil Nadu e-Governance Agency) that previous instructions regarding the issuance of this certificate are being withdrawn. The letter instructs Tahsildars to stop issuing the Income and Asset Certificate for the EWS, both online and manually.\""
      ]
     },
     "execution_count": 59,
     "metadata": {},
     "output_type": "execute_result"
    }
   ],
   "source": [
    "legacy_result['text']"
   ]
  },
  {
   "cell_type": "code",
   "execution_count": null,
   "metadata": {},
   "outputs": [],
   "source": []
  }
 ],
 "metadata": {
  "kernelspec": {
   "display_name": "Python 3",
   "language": "python",
   "name": "python3"
  },
  "language_info": {
   "codemirror_mode": {
    "name": "ipython",
    "version": 3
   },
   "file_extension": ".py",
   "mimetype": "text/x-python",
   "name": "python",
   "nbconvert_exporter": "python",
   "pygments_lexer": "ipython3",
   "version": "3.10.16"
  }
 },
 "nbformat": 4,
 "nbformat_minor": 2
}
